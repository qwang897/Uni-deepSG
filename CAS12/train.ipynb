{
 "cells": [
  {
   "cell_type": "code",
   "execution_count": null,
   "metadata": {},
   "outputs": [],
   "source": [
    "from turtle import forward\n",
    "import numpy as np\n",
    "import torch \n",
    "import torch.nn as nn \n",
    "import torch.nn.functional as F\n",
    "from torch.utils.data import Dataset\n",
    "import torch.utils.data as Data\n",
    "import data_loader as dl\n",
    "import train as tt"
   ]
  },
  {
   "cell_type": "code",
   "execution_count": null,
   "metadata": {},
   "outputs": [],
   "source": [
    "net=tt.sgrna_net().cuda()\n",
    "lossf=nn.SmoothL1Loss(reduction=\"mean\")\n",
    "print(net)"
   ]
  },
  {
   "cell_type": "code",
   "execution_count": null,
   "metadata": {},
   "outputs": [],
   "source": [
    "train=dl.data_loader(dic=\"./data/train\")\n",
    "test=dl.data_loader(dic=\"./data/test\")"
   ]
  },
  {
   "cell_type": "code",
   "execution_count": null,
   "metadata": {},
   "outputs": [],
   "source": [
    "trloader=Data.DataLoader(dataset=train,batch_size=10000,shuffle=True)\n",
    "valoader=Data.DataLoader(dataset=test ,batch_size=10000,shuffle=True)\n",
    "opt=torch.optim.Adam(filter(lambda p : p.requires_grad, net.parameters()),lr=0.0001)\n",
    "she=torch.optim.lr_scheduler.CosineAnnealingWarmRestarts(opt,T_0=5)   \n",
    "steps=20000\n",
    "wt1=open(\"./generate_data/traj/trloss\",\"w+\")\n",
    "wt2=open(\"./generate_data/traj/valoss\",\"w+\")"
   ]
  },
  {
   "cell_type": "code",
   "execution_count": null,
   "metadata": {},
   "outputs": [],
   "source": [
    "for _ in range(steps):\n",
    "    net.train()\n",
    "    for seq,typ,eff in trloader:\n",
    "        seq=seq.cuda()\n",
    "        typ=typ.cuda()\n",
    "        eff=eff.cuda()\n",
    "        pre=net(seq,typ)*100\n",
    "        loss=lossf(pre,eff)\n",
    "        opt.zero_grad()\n",
    "        loss.backward()\n",
    "        opt.step()\n",
    "        she.step()\n",
    "    print(loss.detach().cpu().numpy(),file=wt1,flush=True)\n",
    "\n",
    "    net.eval()\n",
    "    for seq,typ,eff in valoader:\n",
    "        seq=seq.cuda()\n",
    "        typ=typ.cuda()\n",
    "        eff=eff.cuda()\n",
    "        pre=net(seq,typ)*100\n",
    "        loss=lossf(pre,eff)\n",
    "    print(loss.detach().cpu().numpy(),file=wt2,flush=True)\n",
    "\n",
    "    if _%100 ==0:\n",
    "        presave=[]\n",
    "        effsave=[]\n",
    "        for seq,typ,eff in trloader:\n",
    "            seq=seq.cuda()\n",
    "            typ=typ.cuda()\n",
    "            eff=eff.cuda()\n",
    "            pre=net(seq,typ,train=False)*100\n",
    "            pre=pre.detach().cpu().numpy()\n",
    "            eff=eff.detach().cpu().numpy()\n",
    "            if len(presave)==0:\n",
    "                presave=np.copy(pre)\n",
    "                effsave=np.copy(eff)\n",
    "            else:\n",
    "                presave=np.concatenate((presave,pre))\n",
    "                effsave=np.concatenate((effsave,eff))\n",
    "            \n",
    "        np.save(\"./generate_data/out/effv\"+\"_\"+str(_),effsave)\n",
    "        np.save(\"./generate_data/out/prev\"+\"_\"+str(_),presave)\n",
    "\n",
    "        presave=[]\n",
    "        effsave=[]\n",
    "        for seq,typ,eff in valoader:\n",
    "            seq=seq.cuda()\n",
    "            typ=typ.cuda()\n",
    "            eff=eff.cuda()\n",
    "            pre=net(seq,typ,train=False)*100\n",
    "            pre=pre.detach().cpu().numpy()\n",
    "            eff=eff.detach().cpu().numpy()\n",
    "            if len(presave)==0:\n",
    "                presave=np.copy(pre)\n",
    "                effsave=np.copy(eff)\n",
    "            else:\n",
    "                presave=np.concatenate((presave,pre))\n",
    "                effsave=np.concatenate((effsave,eff))\n",
    "            \n",
    "        np.save(\"./generate_data/out/eff\"+\"_\"+str(_),effsave)\n",
    "        np.save(\"./generate_data/out/pre\"+\"_\"+str(_),presave)\n",
    "\n",
    "        torch.save(net,\"./generate_data/model/\"+str(_)+\".pt\")"
   ]
  }
 ],
 "metadata": {
  "kernelspec": {
   "display_name": "Python 3.8.0 64-bit",
   "language": "python",
   "name": "python3"
  },
  "language_info": {
   "codemirror_mode": {
    "name": "ipython",
    "version": 3
   },
   "file_extension": ".py",
   "mimetype": "text/x-python",
   "name": "python",
   "nbconvert_exporter": "python",
   "pygments_lexer": "ipython3",
   "version": "3.8.0"
  },
  "orig_nbformat": 4,
  "vscode": {
   "interpreter": {
    "hash": "df0893f56f349688326838aaeea0de204df53a132722cbd565e54b24a8fec5f6"
   }
  }
 },
 "nbformat": 4,
 "nbformat_minor": 2
}
