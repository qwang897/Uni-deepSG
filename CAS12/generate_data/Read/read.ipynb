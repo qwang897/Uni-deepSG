{
 "cells": [
  {
   "cell_type": "code",
   "execution_count": null,
   "metadata": {},
   "outputs": [],
   "source": [
    "import numpy as np\n",
    "import matplotlib.pyplot as plt\n",
    "import scipy.stats as ss"
   ]
  },
  {
   "cell_type": "code",
   "execution_count": null,
   "metadata": {},
   "outputs": [],
   "source": [
    "show=1\n",
    "tt=100\n",
    "#nn=len(np.loadtxt(\"../traj/valoss\"))//tt+1\n",
    "nn=2\n",
    "nn=len(np.loadtxt(\"../traj/trloss\"))//tt+1\n",
    "acctrain=[]\n",
    "for i in range(nn):\n",
    "    try:\n",
    "        wt1=np.load(\"../out/prev_\"+str(tt*i)+\".npy\").flatten()\n",
    "        wt2=np.load(\"../out/effv_\"+str(tt*i)+\".npy\").flatten()\n",
    "        print(\"##########   train\"+str(i)+\"    ##########\")\n",
    "        print(np.corrcoef(wt1,wt2)[0,1])\n",
    "        print(ss.spearmanr(wt1,wt2)[0])\n",
    "        plt.figure(figsize=(5,5))\n",
    "        #plt.hist2d(wt2,wt1,bins=[50,50])\n",
    "        plt.scatter(wt2,wt1,cmap=\"coolwarm\",s=1)\n",
    "        plt.show()\n",
    "    except:\n",
    "\n",
    "        pass\n",
    "\n",
    "    try:\n",
    "        wt1=np.load(\"../out/pre_\"+str(tt*i)+\".npy\").flatten()\n",
    "        wt2=np.load(\"../out/eff_\"+str(tt*i)+\".npy\").flatten()\n",
    "        print(\"##########   va\"+str(i)+\"    ##########\")\n",
    "        print(np.corrcoef(wt1,wt2)[0,1])\n",
    "        plt.figure(figsize=(5,5))\n",
    "        print(ss.spearmanr(wt1,wt2)[0])\n",
    "        #plt.hist2d(wt2,wt1,bins=[50,50],)\n",
    "        plt.scatter(wt2,wt1,cmap=\"coolwarm\",s=1)\n",
    "        plt.show()\n",
    "    except:\n",
    "        pass\n",
    "        "
   ]
  },
  {
   "cell_type": "code",
   "execution_count": null,
   "metadata": {},
   "outputs": [],
   "source": []
  }
 ],
 "metadata": {
  "kernelspec": {
   "display_name": "Python 3.8.0 64-bit",
   "language": "python",
   "name": "python3"
  },
  "language_info": {
   "codemirror_mode": {
    "name": "ipython",
    "version": 3
   },
   "file_extension": ".py",
   "mimetype": "text/x-python",
   "name": "python",
   "nbconvert_exporter": "python",
   "pygments_lexer": "ipython3",
   "version": "3.8.0"
  },
  "orig_nbformat": 4,
  "vscode": {
   "interpreter": {
    "hash": "df0893f56f349688326838aaeea0de204df53a132722cbd565e54b24a8fec5f6"
   }
  }
 },
 "nbformat": 4,
 "nbformat_minor": 2
}
