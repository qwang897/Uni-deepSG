{
 "cells": [
  {
   "cell_type": "code",
   "execution_count": 9,
   "metadata": {},
   "outputs": [],
   "source": [
    "import numpy as np\n",
    "import matplotlib.pyplot as plt\n",
    "import os"
   ]
  },
  {
   "cell_type": "code",
   "execution_count": 10,
   "metadata": {},
   "outputs": [],
   "source": [
    "path = \"test\"\n",
    "newpath = \"test2\"\n",
    "items = os.listdir(path)\n",
    "type = \"type1\""
   ]
  },
  {
   "cell_type": "code",
   "execution_count": 11,
   "metadata": {},
   "outputs": [],
   "source": [
    "spesca = \"gtttCagagctaTGCTGgaaaCAGCAtagcaagttGaaataaggctagtccgttatcaacttgaaaaagtggcaccgagtcggtgcttt\"[:36].upper()\n",
    "norsca = \"gtttTagagctagaaatagcaagttAaaataaggctagtccgttatcaacttgaaaaagtggcaccgagtcggtgcttt\"[:36].upper()"
   ]
  },
  {
   "cell_type": "code",
   "execution_count": 12,
   "metadata": {},
   "outputs": [],
   "source": [
    "for item in items:\n",
    "    obj = os.path.join(path,item)\n",
    "    data = np.load(obj,allow_pickle=True)\n",
    "    newobj = os.path.join(newpath,item)\n",
    "    if item[:3]==\"kim\":\n",
    "        newdata = []\n",
    "        for seq,eff in data:\n",
    "            newdata.append([seq[:23]+spesca,eff])\n",
    "    else:\n",
    "        newdata = []\n",
    "        for seq,eff in data:\n",
    "            newdata.append([seq[:23]+norsca,eff])\n",
    "    np.save(newobj,newdata)"
   ]
  },
  {
   "cell_type": "code",
   "execution_count": null,
   "metadata": {},
   "outputs": [],
   "source": []
  }
 ],
 "metadata": {
  "kernelspec": {
   "display_name": "Python 3.8.0 64-bit",
   "language": "python",
   "name": "python3"
  },
  "language_info": {
   "codemirror_mode": {
    "name": "ipython",
    "version": 3
   },
   "file_extension": ".py",
   "mimetype": "text/x-python",
   "name": "python",
   "nbconvert_exporter": "python",
   "pygments_lexer": "ipython3",
   "version": "3.8.0"
  },
  "orig_nbformat": 4,
  "vscode": {
   "interpreter": {
    "hash": "df0893f56f349688326838aaeea0de204df53a132722cbd565e54b24a8fec5f6"
   }
  }
 },
 "nbformat": 4,
 "nbformat_minor": 2
}
