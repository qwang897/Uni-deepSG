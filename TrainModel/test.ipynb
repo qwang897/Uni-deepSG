{
 "cells": [
  {
   "cell_type": "code",
   "execution_count": null,
   "metadata": {},
   "outputs": [],
   "source": [
    "from turtle import forward\n",
    "import numpy as np\n",
    "import torch \n",
    "import torch.nn as nn \n",
    "import torch.nn.functional as F\n",
    "from torch.utils.data import Dataset\n",
    "import torch.utils.data as Data\n",
    "import data_loader as dl\n",
    "import train as tt\n",
    "import os\n",
    "import matplotlib.pyplot as plt\n",
    "import scipy.stats as ss"
   ]
  },
  {
   "cell_type": "code",
   "execution_count": null,
   "metadata": {},
   "outputs": [],
   "source": [
    "datapath=\"/data/test\""
   ]
  },
  {
   "cell_type": "code",
   "execution_count": null,
   "metadata": {},
   "outputs": [],
   "source": [
    "item = os.listdir(datapath)\n",
    "print(item)"
   ]
  },
  {
   "cell_type": "code",
   "execution_count": null,
   "metadata": {},
   "outputs": [],
   "source": [
    "for sc in item:\n",
    "    tt=100\n",
    "    nn=len(np.loadtxt(\"./generate_data/traj/trloss\"))//tt+1\n",
    "    sst=[[]for i in range(len(item))]\n",
    "    net=torch.load(f\"generate_data/model/{tt*(nn-1)}.pt\")\n",
    "    net.eval()\n",
    "    cout=0\n",
    "    for i in item:\n",
    "        data=dl.data_loader(dic=datapath,file=i,filetype=cout)\n",
    "        valoader=Data.DataLoader(dataset=data ,batch_size=1000,shuffle=True)\n",
    "        presave=[]\n",
    "        effsave=[]\n",
    "        for seq,typ,eff in valoader:\n",
    "            seq=seq.cuda()\n",
    "            typ=typ.cuda()\n",
    "            eff=eff.cuda()\n",
    "            pre=net(seq,typ,train=False)\n",
    "            pre=pre.detach().cpu().numpy()\n",
    "            eff=eff.detach().cpu().numpy()\n",
    "            if len(presave)==0:\n",
    "                presave=np.copy(pre)\n",
    "                effsave=np.copy(eff)\n",
    "            else:\n",
    "                presave=np.concatenate((presave,pre))\n",
    "                effsave=np.concatenate((effsave,eff))\n",
    "        plt.scatter(presave,effsave,s=1)\n",
    "        print(ss.spearmanr(effsave.flatten(),presave.flatten())[0])\n",
    "        print(len(presave))\n",
    "        plt.show()"
   ]
  }
 ],
 "metadata": {
  "kernelspec": {
   "display_name": "Python 3.8.0 64-bit",
   "language": "python",
   "name": "python3"
  },
  "language_info": {
   "codemirror_mode": {
    "name": "ipython",
    "version": 3
   },
   "file_extension": ".py",
   "mimetype": "text/x-python",
   "name": "python",
   "nbconvert_exporter": "python",
   "pygments_lexer": "ipython3",
   "version": "3.8.0"
  },
  "orig_nbformat": 4,
  "vscode": {
   "interpreter": {
    "hash": "df0893f56f349688326838aaeea0de204df53a132722cbd565e54b24a8fec5f6"
   }
  }
 },
 "nbformat": 4,
 "nbformat_minor": 2
}
