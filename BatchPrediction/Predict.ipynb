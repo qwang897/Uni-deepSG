{
 "cells": [
  {
   "cell_type": "code",
   "execution_count": null,
   "metadata": {},
   "outputs": [],
   "source": [
    "from turtle import forward\n",
    "import numpy as np\n",
    "import torch \n",
    "import torch.nn as nn \n",
    "import torch.nn.functional as F\n",
    "from torch.utils.data import Dataset\n",
    "import torch.utils.data as Data\n",
    "import data_loader as dl\n",
    "import train as tt\n",
    "import os\n",
    "import matplotlib.pyplot as plt\n",
    "import scipy.stats as ss"
   ]
  },
  {
   "cell_type": "code",
   "execution_count": null,
   "metadata": {},
   "outputs": [],
   "source": [
    "datapath=\"data\""
   ]
  },
  {
   "cell_type": "code",
   "execution_count": null,
   "metadata": {},
   "outputs": [],
   "source": [
    "net=torch.load(\"generate_data/model/100.pt\")"
   ]
  },
  {
   "cell_type": "code",
   "execution_count": null,
   "metadata": {},
   "outputs": [],
   "source": [
    "item = os.listdir(datapath)\n",
    "data=dl.data_loader(dic=datapath,file=item[0],filetype=2,state=\"normal\")# use prepared if already add scarfford by runing Addscarford.ipynb \n",
    "print(item)"
   ]
  },
  {
   "cell_type": "markdown",
   "metadata": {},
   "source": [
    "if you want less MSE, you can we can use several rna (10 for example) to fine tune the model. only adjust a b in the step, won't change the spearman correlation\n",
    "or use the model dierctly(commnet the following codes)."
   ]
  },
  {
   "cell_type": "code",
   "execution_count": null,
   "metadata": {},
   "outputs": [],
   "source": [
    "finetune,data = Data.random_split(data,[10,len(data)-10]) # choose 10 seq to finetune\n",
    "valoader=Data.DataLoader(dataset=finetune ,batch_size=1000,shuffle=True)\n",
    "paras =[]\n",
    "paraname =[]\n",
    "lossf=nn.SmoothL1Loss(reduction=\"mean\")\n",
    "for name,para in net.named_parameters():\n",
    "    if name.startswith('embed3'):\n",
    "        paras.append(para)\n",
    "        paraname.append(name)\n",
    "opt=torch.optim.Adam(paras,lr=0.0001)\n",
    "she=torch.optim.lr_scheduler.CosineAnnealingWarmRestarts(opt,T_0=5)   \n",
    "\n",
    "step=1000 #finetune step\n",
    "\n",
    "net.train()\n",
    "for i in range(step):\n",
    "    for seq,typ,eff in valoader:\n",
    "        seq=seq.cuda()\n",
    "        typ=typ.cuda()\n",
    "        eff=eff.cuda()\n",
    "        eff+=(torch.rand(size=eff.size(),device=\"cuda\")-0.5)*0.1\n",
    "        eff =torch.abs(eff)\n",
    "        pre=net(seq,typ)\n",
    "        loss=lossf(pre,eff)\n",
    "        opt.zero_grad()\n",
    "        loss.backward()\n",
    "        opt.step()\n",
    "        she.step()"
   ]
  },
  {
   "cell_type": "code",
   "execution_count": null,
   "metadata": {},
   "outputs": [],
   "source": [
    "valoader=Data.DataLoader(dataset=data ,batch_size=1,shuffle=True)\n",
    "for sc in item:\n",
    "    net.eval()\n",
    "    for i in item:\n",
    "        presave=[]\n",
    "        effsave=[]\n",
    "        for seq,typ,eff in valoader:\n",
    "            seq=seq.cuda()\n",
    "            typ=typ.cuda()\n",
    "            eff=eff.cuda()\n",
    "            pre=net(seq,typ,train=False)\n",
    "            pre=pre.detach().cpu().numpy()\n",
    "            eff=eff.detach().cpu().numpy()\n",
    "            if len(presave)==0:\n",
    "                presave=np.copy(pre)\n",
    "                effsave=np.copy(eff)\n",
    "            else:\n",
    "                presave=np.concatenate((presave,pre))\n",
    "                effsave=np.concatenate((effsave,eff))\n",
    "        plt.scatter(presave,effsave,s=1)\n",
    "        print(ss.spearmanr(effsave.flatten(),presave.flatten())[0])\n",
    "        print(len(presave))\n",
    "        plt.show()\n"
   ]
  }
 ],
 "metadata": {
  "kernelspec": {
   "display_name": "Python 3.8.0 64-bit",
   "language": "python",
   "name": "python3"
  },
  "language_info": {
   "codemirror_mode": {
    "name": "ipython",
    "version": 3
   },
   "file_extension": ".py",
   "mimetype": "text/x-python",
   "name": "python",
   "nbconvert_exporter": "python",
   "pygments_lexer": "ipython3",
   "version": "3.8.0"
  },
  "orig_nbformat": 4,
  "vscode": {
   "interpreter": {
    "hash": "df0893f56f349688326838aaeea0de204df53a132722cbd565e54b24a8fec5f6"
   }
  }
 },
 "nbformat": 4,
 "nbformat_minor": 2
}
