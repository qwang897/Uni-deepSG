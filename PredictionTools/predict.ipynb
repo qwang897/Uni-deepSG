{
 "cells": [
  {
   "cell_type": "code",
   "execution_count": 1,
   "metadata": {},
   "outputs": [
    {
     "name": "stdout",
     "output_type": "stream",
     "text": [
      "{'A': 0, 'T': 1, 'C': 2, 'G': 3, 'N': 4}\n"
     ]
    }
   ],
   "source": [
    "from turtle import forward\n",
    "import numpy as np\n",
    "import torch \n",
    "import torch.nn as nn \n",
    "import torch.nn.functional as F\n",
    "from torch.utils.data import Dataset\n",
    "import torch.utils.data as Data\n",
    "import data_loader as dl\n",
    "import train as tt\n",
    "import os\n",
    "import matplotlib.pyplot as plt\n",
    "import scipy.stats as ss"
   ]
  },
  {
   "cell_type": "code",
   "execution_count": 2,
   "metadata": {},
   "outputs": [],
   "source": [
    "sgrna=\"\"\n",
    "state=\"normal\""
   ]
  },
  {
   "cell_type": "code",
   "execution_count": 3,
   "metadata": {},
   "outputs": [
    {
     "name": "stdout",
     "output_type": "stream",
     "text": [
      "tensor([[0, 0, 0, 0, 0, 0, 0, 0, 0, 0, 0, 0, 0, 0, 0, 0, 0, 0, 0, 0, 0, 0, 0, 3,\n",
      "         1, 1, 1, 2, 0, 3, 0, 3, 2, 1, 0, 1, 3, 2, 1, 3, 3, 0, 0, 0, 2, 0, 3, 2,\n",
      "         0, 1, 0, 3, 2, 0, 0, 3, 1, 1, 3]])\n"
     ]
    }
   ],
   "source": [
    "\n",
    "if state==\"normal\":\n",
    "    input = sgrna+\"gtttCagagctaTGCTGgaaaCAGCAtagcaagttGaaataaggctagtccgttatcaacttgaaaaagtggcaccgagtcggtgcttt\"[:36].upper() #add scar if abnormal\n",
    "elif state==\"abnormal\":\n",
    "    input = sgrna+\"gtttTagagctaNNNNNgaaaNNNNNtagcaagttAaaataaggctagtccgttatcaacttgaaaaagtggcaccgagtcggtgcttt\"[:36].upper() #add scar if normal\n",
    "else:\n",
    "    print(\"add scar after the 23bp. choose abnormal or normal for sgrna scarfford\")\n",
    "input = dl.translateseq(input)\n",
    "print(input)\n",
    "input =input.cuda()\n",
    "typ = torch.LongTensor([[2]]).cuda()"
   ]
  },
  {
   "cell_type": "code",
   "execution_count": 4,
   "metadata": {},
   "outputs": [
    {
     "name": "stdout",
     "output_type": "stream",
     "text": [
      "sgrna_net(\n",
      "  (embed1): Embedding(5, 16)\n",
      "  (embed3): Sequential(\n",
      "    (0): Embedding(11, 100)\n",
      "    (1): ReLU()\n",
      "    (2): Linear(in_features=100, out_features=100, bias=True)\n",
      "    (3): ReLU()\n",
      "    (4): Linear(in_features=100, out_features=2, bias=True)\n",
      "    (5): ReLU()\n",
      "  )\n",
      "  (conv1): Conv1d(16, 64, kernel_size=(5,), stride=(1,), padding=(2,))\n",
      "  (conv2): Conv1d(64, 64, kernel_size=(5,), stride=(1,), padding=(2,))\n",
      "  (conv3): Conv1d(64, 64, kernel_size=(5,), stride=(1,), padding=(2,))\n",
      "  (conv4): Conv1d(16, 64, kernel_size=(5,), stride=(1,), padding=(2,))\n",
      "  (lin1): Linear(in_features=7552, out_features=2048, bias=True)\n",
      "  (lin2): Linear(in_features=2048, out_features=2048, bias=True)\n",
      "  (lin3): Linear(in_features=2048, out_features=1, bias=True)\n",
      ")\n"
     ]
    }
   ],
   "source": [
    "net=torch.load(\"generate_data/model/100.pt\")\n",
    "print(net)"
   ]
  },
  {
   "cell_type": "code",
   "execution_count": 5,
   "metadata": {},
   "outputs": [
    {
     "name": "stdout",
     "output_type": "stream",
     "text": [
      "torch.Size([1, 59])\n",
      "torch.Size([1, 1])\n",
      "tensor([[0.0334]], device='cuda:0', grad_fn=<SigmoidBackward0>)\n"
     ]
    }
   ],
   "source": [
    "eff = net(input,typ)\n",
    "print(eff)"
   ]
  }
 ],
 "metadata": {
  "kernelspec": {
   "display_name": "Python 3.8.0 64-bit",
   "language": "python",
   "name": "python3"
  },
  "language_info": {
   "codemirror_mode": {
    "name": "ipython",
    "version": 3
   },
   "file_extension": ".py",
   "mimetype": "text/x-python",
   "name": "python",
   "nbconvert_exporter": "python",
   "pygments_lexer": "ipython3",
   "version": "3.8.0"
  },
  "orig_nbformat": 4,
  "vscode": {
   "interpreter": {
    "hash": "df0893f56f349688326838aaeea0de204df53a132722cbd565e54b24a8fec5f6"
   }
  }
 },
 "nbformat": 4,
 "nbformat_minor": 2
}
