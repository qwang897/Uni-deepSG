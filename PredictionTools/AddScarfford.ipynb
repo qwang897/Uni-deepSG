{
 "cells": [
  {
   "cell_type": "code",
   "execution_count": 7,
   "metadata": {},
   "outputs": [],
   "source": [
    "import numpy as np\n",
    "import matplotlib.pyplot as plt\n",
    "import os"
   ]
  },
  {
   "cell_type": "code",
   "execution_count": 8,
   "metadata": {},
   "outputs": [],
   "source": [
    "path = \"data\"\n",
    "newpath = \"data2\"\n",
    "items = os.listdir(path)\n",
    "type = \"normal\""
   ]
  },
  {
   "cell_type": "code",
   "execution_count": 9,
   "metadata": {},
   "outputs": [],
   "source": [
    "norsca = \"gtttCagagctaTGCTGgaaaCAGCAtagcaagttGaaataaggctagtccgttatcaacttgaaaaagtggcaccgagtcggtgcttt\"[:36].upper()\n",
    "spesca = \"gtttTagagctaNNNNNgaaaNNNNNtagcaagttAaaataaggctagtccgttatcaacttgaaaaagtggcaccgagtcggtgcttt\"[:36].upper()"
   ]
  },
  {
   "cell_type": "code",
   "execution_count": 10,
   "metadata": {},
   "outputs": [
    {
     "name": "stdout",
     "output_type": "stream",
     "text": [
      "59\n"
     ]
    }
   ],
   "source": [
    "for item in items:\n",
    "    obj = os.path.join(path,item)\n",
    "    data = np.load(obj)\n",
    "    newobj = os.path.join(newpath,item)\n",
    "    newdata = []\n",
    "    for seq,eff in data:\n",
    "        newdata.append([seq+spesca,eff])\n",
    "    np.save(newobj,newdata)"
   ]
  },
  {
   "cell_type": "code",
   "execution_count": 11,
   "metadata": {},
   "outputs": [
    {
     "data": {
      "text/plain": [
       "'for path in paths:\\n    for item in items:\\n        obj = os.path.join(root,path,item)\\n        data = np.load(obj)\\n        newobj = os.path.join(newroot,path,item)\\n        try:\\n            os.mkdir(os.path.join(newroot,path))\\n        except:\\n            pass\\n        newdata = []\\n        for seq,eff in data:\\n            newdata.append([seq+norsca,eff])\\n        np.save(newobj,newdata)\\n        print(len(newdata[0][0]))'"
      ]
     },
     "execution_count": 11,
     "metadata": {},
     "output_type": "execute_result"
    }
   ],
   "source": [
    "\"\"\"for path in paths:\n",
    "    for item in items:\n",
    "        obj = os.path.join(root,path,item)\n",
    "        data = np.load(obj)\n",
    "        newobj = os.path.join(newroot,path,item)\n",
    "        try:\n",
    "            os.mkdir(os.path.join(newroot,path))\n",
    "        except:\n",
    "            pass\n",
    "        newdata = []\n",
    "        for seq,eff in data:\n",
    "            newdata.append([seq+norsca,eff])\n",
    "        np.save(newobj,newdata)\n",
    "        print(len(newdata[0][0]))\"\"\"\n"
   ]
  },
  {
   "cell_type": "code",
   "execution_count": 12,
   "metadata": {},
   "outputs": [
    {
     "data": {
      "text/plain": [
       "'root=\"data2\"\\npaths = os.listdir(root)\\nitems = os.listdir(os.path.join(root,paths[0]))\\nfor path in paths:\\n    for item in items:\\n        obj = os.path.join(root,path,item)\\n        data = np.load(obj)\\n        newobj = os.path.join(newroot,path,item)\\n        try:\\n            os.mkdir(os.path.join(newroot,path))\\n        except:\\n            pass\\n        newdata = []\\n        for seq,eff in data:\\n            newdata.append([seq+spesca,eff])\\n        np.save(newobj,newdata)\\n        print(len(newdata[0][0]))'"
      ]
     },
     "execution_count": 12,
     "metadata": {},
     "output_type": "execute_result"
    }
   ],
   "source": [
    "\"\"\"root=\"data2\"\n",
    "paths = os.listdir(root)\n",
    "items = os.listdir(os.path.join(root,paths[0]))\n",
    "for path in paths:\n",
    "    for item in items:\n",
    "        obj = os.path.join(root,path,item)\n",
    "        data = np.load(obj)\n",
    "        newobj = os.path.join(newroot,path,item)\n",
    "        try:\n",
    "            os.mkdir(os.path.join(newroot,path))\n",
    "        except:\n",
    "            pass\n",
    "        newdata = []\n",
    "        for seq,eff in data:\n",
    "            newdata.append([seq+spesca,eff])\n",
    "        np.save(newobj,newdata)\n",
    "        print(len(newdata[0][0]))\"\"\""
   ]
  }
 ],
 "metadata": {
  "kernelspec": {
   "display_name": "Python 3.8.0 64-bit",
   "language": "python",
   "name": "python3"
  },
  "language_info": {
   "codemirror_mode": {
    "name": "ipython",
    "version": 3
   },
   "file_extension": ".py",
   "mimetype": "text/x-python",
   "name": "python",
   "nbconvert_exporter": "python",
   "pygments_lexer": "ipython3",
   "version": "3.8.0"
  },
  "orig_nbformat": 4,
  "vscode": {
   "interpreter": {
    "hash": "df0893f56f349688326838aaeea0de204df53a132722cbd565e54b24a8fec5f6"
   }
  }
 },
 "nbformat": 4,
 "nbformat_minor": 2
}
