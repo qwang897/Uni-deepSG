{
 "cells": [
  {
   "cell_type": "code",
   "execution_count": 87,
   "metadata": {},
   "outputs": [],
   "source": [
    "import numpy as np\n",
    "import matplotlib.pyplot as plt\n",
    "import scipy.stats as ss\n",
    "import os"
   ]
  },
  {
   "cell_type": "code",
   "execution_count": 88,
   "metadata": {},
   "outputs": [
    {
     "name": "stdout",
     "output_type": "stream",
     "text": [
      "['Gagnon2014.txt', 'Varshney2015.txt', 'MorenoMateos2015.txt']\n"
     ]
    }
   ],
   "source": [
    "item = os.listdir(\"/data/Work/predna_project/rna_eff/pre/v_linear_combine/zf_0719/zf_0719/deephf/\")\n",
    "print(item)\n",
    "sdata=[]\n",
    "for i in item:\n",
    "    dir={}\n",
    "    data = open(f\"/data/Work/predna_project/rna_eff/pre/v_linear_combine/zf_0719/zf_0719/deephf/{i}\",\"r\").readlines()\n",
    "    for line in data:\n",
    "        seq,eff,pre = line.split()\n",
    "        dir[seq]=float(pre)\n",
    "    sdata.append(dir)"
   ]
  },
  {
   "cell_type": "code",
   "execution_count": 89,
   "metadata": {},
   "outputs": [],
   "source": [
    "root=[f\"data{i}\" for i in range(1,20)]\n",
    "path=\"test\"\n",
    "item=[\"G_part.npy\",\"V_part.npy\",\"HF.npy\"]"
   ]
  },
  {
   "cell_type": "code",
   "execution_count": 90,
   "metadata": {},
   "outputs": [],
   "source": [
    "ssdata = {}\n",
    "for i,j in zip(item,sdata):\n",
    "    ssdata[i]=j\n",
    "fss=[[]for i in range(3)]"
   ]
  },
  {
   "cell_type": "code",
   "execution_count": 91,
   "metadata": {},
   "outputs": [
    {
     "name": "stdout",
     "output_type": "stream",
     "text": [
      "[[0.37097114160023, 0.6557399924699266, 0.7214134363233361, 0.7101344891780069, 0.6691738973198399, 0.5000067818220046, 0.6703167028734275, 0.5518270760428178, 0.6777460157471673, 0.5282167158138275, 0.6969481868042341, 0.6732078123384614, 0.5241811708638755, 0.68241537846269, 0.6048254884373527, 0.6794373193331629, 0.4483191444612201, 0.7204686385860509, 0.5746617311728927], [0.18436598224658954, 0.5047527841603778, 0.341523599239754, 0.12124352331606215, 0.2446571406405438, 0.3166368515205724, 0.4744325074082626, 0.1856354724431666, 0.4420976048467877, 0.3019087579643876, 0.376007312722717, 0.2805633188350523, 0.3894040114618785, 0.41295568758683016, -0.012216404886561956, -0.046861184792219276, -0.09057080560060261, 0.23969755966406409, 0.47380123641213384], [0.5077546002329609, 0.5890822245226988, 0.6358369183891284, 0.5864650270640639, 0.6162527059189996, 0.6581704841720365, 0.6598039941842021, 0.5642908509085495, 0.47884361072320025, 0.5914977016563635, 0.6086486112777911, 0.5347535626824328, 0.5980849168695525, 0.5573987086078257, 0.5740498897369958, 0.6271585248830926, 0.5482230507146348, 0.5352096392774426, 0.6189375910174674]]\n",
      "[0.6136848  0.27052816 0.58370856]\n"
     ]
    }
   ],
   "source": [
    "for i in root:\n",
    "    cout=-1\n",
    "    for j in item:\n",
    "        cout+=1\n",
    "        obj=os.path.join(i,path,j)\n",
    "        data = np.load(obj)\n",
    "        pp1=[]\n",
    "        pp2=[]\n",
    "        pvdata= ssdata[j]\n",
    "        for seq,eff in data:\n",
    "            if seq in pvdata:\n",
    "                pp1.append(float(eff))\n",
    "                pp2.append(float(pvdata[seq]))\n",
    "        fss[cout].append(ss.spearmanr(pp1,pp2)[0])\n",
    "print(fss)\n",
    "print(np.mean(fss,axis=-1))\n",
    "#np.save(\"./zf/deepspca9.npy\",fss)"
   ]
  }
 ],
 "metadata": {
  "kernelspec": {
   "display_name": "Python 3.8.0 64-bit",
   "language": "python",
   "name": "python3"
  },
  "language_info": {
   "codemirror_mode": {
    "name": "ipython",
    "version": 3
   },
   "file_extension": ".py",
   "mimetype": "text/x-python",
   "name": "python",
   "nbconvert_exporter": "python",
   "pygments_lexer": "ipython3",
   "version": "3.8.0"
  },
  "orig_nbformat": 4,
  "vscode": {
   "interpreter": {
    "hash": "df0893f56f349688326838aaeea0de204df53a132722cbd565e54b24a8fec5f6"
   }
  }
 },
 "nbformat": 4,
 "nbformat_minor": 2
}
