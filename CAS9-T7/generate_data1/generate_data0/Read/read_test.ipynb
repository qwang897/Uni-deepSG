{
 "cells": [
  {
   "cell_type": "code",
   "execution_count": 3,
   "metadata": {},
   "outputs": [],
   "source": [
    "import numpy as np\n",
    "import matplotlib.pyplot as plt"
   ]
  },
  {
   "cell_type": "code",
   "execution_count": 4,
   "metadata": {},
   "outputs": [
    {
     "name": "stdout",
     "output_type": "stream",
     "text": [
      "##########   va0    ##########\n",
      "[[ 1.        -0.0291715]\n",
      " [-0.0291715  1.       ]]\n"
     ]
    },
    {
     "data": {
      "image/png": "[encoded data removed]",
      "text/plain": [
       "<Figure size 432x288 with 1 Axes>"
      ]
     },
     "metadata": {
      "needs_background": "light"
     },
     "output_type": "display_data"
    }
   ],
   "source": [
    "show=1\n",
    "acctrain=[]\n",
    "for i in range(2000):\n",
    "    try:\n",
    "        wt1=np.load(\"../test/pre_\"+str(2000*i)+\".npy\").flatten()\n",
    "        wt2=np.load(\"../test/eff_\"+str(2000*i)+\".npy\").flatten()\n",
    "        print(\"##########   va\"+str(i)+\"    ##########\")\n",
    "        print(np.corrcoef(wt1,wt2))\n",
    "        plt.scatter(wt1,wt2,cmap=\"coolwarm\",s=1)\n",
    "        plt.show()\n",
    "    except:\n",
    "        pass\n",
    "        "
   ]
  }
 ],
 "metadata": {
  "kernelspec": {
   "display_name": "Python 3.8.0 64-bit",
   "language": "python",
   "name": "python3"
  },
  "language_info": {
   "codemirror_mode": {
    "name": "ipython",
    "version": 3
   },
   "file_extension": ".py",
   "mimetype": "text/x-python",
   "name": "python",
   "nbconvert_exporter": "python",
   "pygments_lexer": "ipython3",
   "version": "3.8.0"
  },
  "orig_nbformat": 4,
  "vscode": {
   "interpreter": {
    "hash": "df0893f56f349688326838aaeea0de204df53a132722cbd565e54b24a8fec5f6"
   }
  }
 },
 "nbformat": 4,
 "nbformat_minor": 2
}
